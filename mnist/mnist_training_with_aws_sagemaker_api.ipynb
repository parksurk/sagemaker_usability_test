{
 "cells": [
  {
   "cell_type": "markdown",
   "metadata": {},
   "source": [
    "# MNIST TEST on AWS Sagemaker\n",
    "\n",
    "* conda_tensorflow_p36"
   ]
  },
  {
   "cell_type": "markdown",
   "metadata": {},
   "source": [
    "## 1. 생성한 S3 버킷의 이름을 추가하고 코드를 실행합니다. get_execution_role 함수는 노트북 인스턴스 생성 시점에 생성한 IAM 역할을 가져옵니다.\n",
    "\n",
    "* bucket name = 'sagemaker-intelligentqa'"
   ]
  },
  {
   "cell_type": "code",
   "execution_count": 1,
   "metadata": {},
   "outputs": [],
   "source": [
    "from sagemaker import get_execution_role\n",
    "\n",
    "role = get_execution_role()\n",
    "bucket='sagemaker-intelligentqa'"
   ]
  },
  {
   "cell_type": "markdown",
   "metadata": {},
   "source": [
    "## 2. MNIST 데이터 세트 다운로드\n",
    "\n",
    "이 코드는 다음 작업을 수행합니다.\n",
    "\n",
    "1. deeplearning.net 웹 사이트에서 MNIST 데이터 세트(mnist.pkl.gz)를 Amazon SageMaker 노트북 인스턴스로 다운로드합니다.\n",
    "\n",
    "2. 파일의 압축을 해제하고 다음 3개의 데이터 세트를 노트북의 메모리에서 읽습니다.\n",
    "\n",
    "    * train_set – 수기 숫자 이미지를 사용하여 모델을 교육합니다.\n",
    "\n",
    "    * valid_set – 모델을 교육한 이후 데이터 세트에 있는 이미지를 사용하여 이를 검증합니다.\n",
    "\n",
    "    * test_set – 이 연습에서는 이 데이터 세트를 사용하지 않습니다."
   ]
  },
  {
   "cell_type": "code",
   "execution_count": 2,
   "metadata": {},
   "outputs": [
    {
     "name": "stdout",
     "output_type": "stream",
     "text": [
      "CPU times: user 866 ms, sys: 259 ms, total: 1.13 s\n",
      "Wall time: 10.5 s\n"
     ]
    }
   ],
   "source": [
    "%%time\n",
    "import pickle, gzip, numpy, urllib.request, json\n",
    "\n",
    "# Load the dataset\n",
    "urllib.request.urlretrieve(\"http://deeplearning.net/data/mnist/mnist.pkl.gz\", \"mnist.pkl.gz\")\n",
    "with gzip.open('mnist.pkl.gz', 'rb') as f:\n",
    "    train_set, valid_set, test_set = pickle.load(f, encoding='latin1')"
   ]
  },
  {
   "cell_type": "markdown",
   "metadata": {},
   "source": [
    "## 3. 교육 데이터 세트 탐색\n",
    "\n",
    "일반적으로 교육 데이터를 탐색하여 무엇을 정리하고 어떤 변형을 적용해야 모델 교육이 개선되는지 결정합니다. 이 연습에서는 MNIST 데이터 세트를 정리할 필요가 없습니다. train_set 데이터 세트의 이미지 중 하나만 표시됩니다.\n",
    "\n",
    "train_set는 다음 데이터를 포함합니다.\n",
    "\n",
    "    * train_set[0]은 이미지를 포함합니다.\n",
    "\n",
    "    * train_set[1]은 레이블을 포함합니다.\n",
    "\n",
    "코드는 matplotlib 라이브러리를 사용하여 교육 데이터 세트에서 31번째 이미지를 가져와 표시합니다."
   ]
  },
  {
   "cell_type": "code",
   "execution_count": 3,
   "metadata": {},
   "outputs": [
    {
     "data": {
      "image/png": "[encoded data removed]",
      "text/plain": [
       "<Figure size 144x720 with 1 Axes>"
      ]
     },
     "metadata": {},
     "output_type": "display_data"
    }
   ],
   "source": [
    "%matplotlib inline\n",
    "import matplotlib.pyplot as plt\n",
    "plt.rcParams[\"figure.figsize\"] = (2,10)\n",
    "\n",
    "\n",
    "def show_digit(img, caption='', subplot=None):\n",
    "    if subplot==None:\n",
    "        _,(subplot)=plt.subplots(1,1)\n",
    "    imgr=img.reshape((28,28))\n",
    "    subplot.axis('off')\n",
    "    subplot.imshow(imgr, cmap='gray')\n",
    "    plt.title(caption)\n",
    "\n",
    "show_digit(train_set[0][30], 'This is a {}'.format(train_set[1][30]))"
   ]
  },
  {
   "cell_type": "markdown",
   "metadata": {},
   "source": [
    "## 4. 교육 데이터 세트 변형 및 S3로의 업로드\n",
    "\n",
    "효율적인 모델 교육을 위해 데이터 세트를 numpy.array 형식에서 RecordIO protobuf 형식으로 변형합니다. RecordIO protobuf 형식이 Amazon SageMaker에서 제공하는 모든 알고리즘에 대해 더욱 효율적입니다.\n",
    "\n",
    "    <중요> 이 단계와 후속 단계에서 Amazon SageMaker가 제공하는 상위 수준 Python 라이브러리 또는 하위 수준 AWS SDK for Python (Boto)을 사용할 수 있습니다. Amazon SageMaker를 처음 사용하는 경우 다상위 수준 Python 라이브러리의 코드 예제를 따르는 것이 좋습니다.\n",
    "\n",
    "데이터 세트를 변형하려면 다음 옵션 중 하나를 선택합니다.\n",
    "\n",
    "    * Amazon SageMaker가 제공하는 상위 수준 Python 라이브러리 사용\n",
    "\n",
    "        상위 수준 Python 라이브러리를 사용하는 경우 이 단계를 건너뛰고 다음 단계로 이동합니다. 다음 단원에서 모델 교육에 대해 fit 메서드를 사용합니다. 모델 교육 작업을 시작하기 전에 필요한 변형을 수행하고 S3에 업로드합니다.\n",
    "\n",
    "    * SDK for Python 사용\n",
    "\n",
    "다음 코드는 우선 상위 수준 Python 라이브러리 함수인 write_numpy_to_dense_tensor를 사용하여 교육 데이터를 모델 교육에 효율적인 protobuf 형식으로 변형합니다. 그런 다음 코드는 SDK for Python 하위 수준 API를 사용하여 데이터를 S3로 업로드합니다."
   ]
  },
  {
   "cell_type": "code",
   "execution_count": 4,
   "metadata": {},
   "outputs": [
    {
     "name": "stdout",
     "output_type": "stream",
     "text": [
      "training data will be uploaded to: s3://sagemaker-intelligentqa/kmeans_lowlevel_example/data\n",
      "CPU times: user 8.77 s, sys: 391 ms, total: 9.16 s\n",
      "Wall time: 9.49 s\n"
     ]
    }
   ],
   "source": [
    "%%time\n",
    "from sagemaker.amazon.common import write_numpy_to_dense_tensor\n",
    "import io\n",
    "import boto3\n",
    "\n",
    "data_key = 'kmeans_lowlevel_example/data'\n",
    "data_location = 's3://{}/{}'.format(bucket, data_key)\n",
    "print('training data will be uploaded to: {}'.format(data_location))\n",
    "\n",
    "# Convert the training data into the format required by the SageMaker KMeans algorithm\n",
    "buf = io.BytesIO()\n",
    "write_numpy_to_dense_tensor(buf, train_set[0], train_set[1])\n",
    "buf.seek(0)\n",
    "\n",
    "boto3.resource('s3').Bucket(bucket).Object(data_key).upload_fileobj(buf)"
   ]
  },
  {
   "cell_type": "markdown",
   "metadata": {},
   "source": [
    "## 5. Training 알고리즘 선택\n",
    "\n",
    "### AWS Sagemaker 가 제공하는 범용 알고리즘\n",
    "\n",
    "1. 이산적 범주에 맞는 답(예: 다음 질문에 대한 답):\n",
    "\n",
    " \n",
    "\n",
    "    \"과거 고객 응답을 기반으로 했을 때 이 특정 고객에게 메일을 보내야 하는가?\" 이 질문에 대한 답은 \"예\" 또는 \"아니요\"라는 두 가지 범주로 나뉩니다. 이 경우 답을 사용하여 메일 캠페인의 수신자를 좁힙니다.\n",
    "\n",
    " \n",
    "\n",
    "    \"과거 고객 세그먼테이션을 기반으로 했을 때 이 고객이 어떤 세그먼트에 해당되는가?\" 답은 \"자녀를 출가시킨 부부\", \"교외 가족\" 또는 \"도시 거주 전문직\"과 같은 범주에 해당될 수 있습니다. 이러한 세그먼트를 사용하여 메일의 수신자를 결정할 수 있습니다.\n",
    "\n",
    " \n",
    "\n",
    "    이산적 분류 문제 유형의 경우 Amazon SageMaker는 Linear Learner 및 XGBoost 알고리즘 알고리즘을 제공합니다. 다음 하이퍼파라미터를 설정하여 이러한 알고리즘이 이산적 결과를 생산하도록 지시합니다.\n",
    "\n",
    " \n",
    "\n",
    "    Linear Learner 알고리즘의 경우 predictor_type 하이퍼파라미터를 binary_classifier로 설정합니다.\n",
    "\n",
    " \n",
    "\n",
    "    XGBoost 알고리즘의 경우 objective 하이퍼파라미터를 reg:logistic로 설정합니다.\n",
    "\n",
    " \n",
    "\n",
    "2. 답이 정량적인 질문은 다음과 같습니다. \"지난 메일링의 투자수익률(ROI)을 기반으로 이 고객 메일링의 ROI는 어떻게 되는가?\" 이 경우 ROI를 사용하여 메일 캠페인의 대상 고객을 지정합니다. 정량적 분석 문제의 경우 Linear Learner 또는 XGBoost 알고리즘 알고리즘을 사용할 수 있습니다. 다음 하이퍼파라미터를 설정하여 이러한 알고리즘이 정량적 결과를 생산하도록 지시합니다.\n",
    "\n",
    " \n",
    "\n",
    "    Linear Learner 알고리즘의 경우 predictor_type 하이퍼파라미터를 regressor로 설정합니다.\n",
    "\n",
    " \n",
    "\n",
    "    XGBoost 알고리즘의 경우 objective 하이퍼파라미터를 reg:linear로 설정합니다.\n",
    "\n",
    " \n",
    "\n",
    "3. 이산적 추천 형식의 답이 나오는 질문은 다음과 같습니다. \"이전 메일링 응답을 기반으로 각 고객에 대한 추천 콘텐츠는 무엇인가?\" 이 경우 고객에게 메일을 보낼 것인지 여부가 아닌 무엇을 메일로 보낼 것인가에 대한 추천을 찾고 있는 것입니다. 이 문제의 경우 Amazon SageMaker는 Factorization Machines 알고리즘을 제공합니다.\n",
    "\n",
    " \n",
    "\n",
    "    이전 예제의 모든 질문들은 답을 포함한 예제 데이터를 보유한 것에 의존합니다. 답이 포함된 예제 데이터를 사용할 필요가 없거나 사용할 수 없을 때가 있습니다. 답을 통해 그룹이 식별되는 문제의 경우 그렇습니다. 예:\n",
    "\n",
    "    \"현재 및 잠재 고객을 속성 기반 10개의 그룹으로 그룹화하고자 합니다. 어떻게 그룹화해야 합니까? \" 현재 고객의 비율이 가장 높은 그룹에 있는 고객에게 메일을 보내기로 할 수 있습니다. 다시 말해 동일한 속성 세트를 기반으로 현재 고객과 가장 유사한 잠재 고객입니다. 이러한 유형의 문제의 경우 Amazon SageMaker는 k-means 알고리즘을(를) 제공합니다.\n",
    "\n",
    " \n",
    "\n",
    "    \"이러한 고객을 차별화하는 속성은 무엇이고, 이러한 차원을 따라 각 고객에 대한 가치는 어떻게 되는가\" 이러한 답변을 사용하여 현재 및 잠재 고객의 관점을 간소화하고 이러한 고객의 속성을 잘 이해할 수도 있습니다. 이러한 유형의 문제의 경우 Amazon SageMaker는 Principal Component Analysis(PCA) 알고리즘을 제공합니다.\n",
    "\n",
    "### AWS Sagemaker 가 제공하는 특정 사례용 알고리즘\n",
    "\n",
    "범용 알고리즘과 별개로 Amazon SageMaker는 특정 사용 사례에 맞춰진 알고리즘을 제공합니다. 다음이 포함됩니다.\n",
    "\n",
    "    * Image Classification 알고리즘 – 이 알고리즘을 사용하여 이미지를 분류합니다. 답이 포함된 예제 데이터를 사용합니다(지도 알고리즘 참조).\n",
    "    * Sequence2Sequence – 이 비지도 알고리즘은 신경망 머신 번역에 일반적으로 사용됩니다.\n",
    "    * Latent Dirichlet Allocation(LDA) – 이 알고리즘은 여러 문서에서 주제를 결정하는 데 적합합니다. 비지도 알고리즘으로 교육 도중 답이 포함된 예제 데이터를 사용하지 않습니다.\n",
    "    * Neural Topic Model(NTM) – 신경망 접근 방식을 사용하여 여러 문서에서 주제를 결정하는 또 다른 비지도 기법입니다.\n",
    "    \n",
    "<Amazon SageMaker 제공 알고리즘: 공통 정보>\n",
    "    * Linear Learner\n",
    "    * Factorization Machines\n",
    "    * XGBoost 알고리즘\n",
    "    * Image Classification 알고리즘\n",
    "    * Sequence2Sequence\n",
    "    * k-means 알고리즘\n",
    "    * Principal Component Analysis(PCA)\n",
    "    * Latent Dirichlet Allocation(LDA)\n",
    "    * Neural Topic Model(NTM)\n",
    "    * DeepAR Forecasting\n",
    "    * BlazingText\n",
    "    * Random Cut Forest"
   ]
  },
  {
   "cell_type": "markdown",
   "metadata": {},
   "source": [
    "## 6. Training 작업 생성\n",
    "\n",
    "모델을 교육하기 위해 Amazon SageMaker는 CreateTrainingJob API를 제공합니다. 이 API를 호출할 때 다음 정보를 제공합니다.\n",
    "\n",
    "    * 교육 알고리즘 – 교육 코드가 포함된 도커 이미지의 레지스트리 경로를 지정합니다. Amazon SageMaker에서 제공하는 알고리즘의 레지스트리 경로는 Amazon SageMaker 제공 알고리즘: 공통 파라미터 단원을 참조하십시오. 다음 예제에서 상위 수준 Python 라이브러리를 사용할 때 이 경로를 명시적으로 지정할 필요가 없습니다. sagemaker.amazon.kmeans.KMeans 객체가 경로를 알고 있습니다.\n",
    "\n",
    "    * 알고리즘별 하이퍼파라미터 – 모델의 최종 품질에 영향을 미치는 알고리즘별 하이퍼파라미터를 지정합니다. 자세한 정보는 k-means 하이퍼파라미터 단원을 참조하십시오.\n",
    "\n",
    "    *입력 및 출력 구성 – 교육 데이터가 저장되고 Amazon SageMaker가 모델 교육 결과(모델 아티팩트)를 저장하는 S3 버킷을 제공합니다.\n",
    "\n",
    "하위 수준 AWS SDK for Python은 해당 create_training_job 메서드를 제공하고 상위 수준 Python 라이브러리는 fit 메서드를 제공합니다."
   ]
  },
  {
   "cell_type": "markdown",
   "metadata": {},
   "source": [
    "### 모델을 교육하려면 다음 옵션 중 하나를 선택합니다.\n",
    "\n",
    "### 6.1. Amazon SageMaker에서 제공하는 상위 수준 Python 라이브러리 사용.\n",
    "\n",
    "이 Python 라이브러리는 KMeans 예측기를 제공합니다. 이는 sagemaker.amazon.kmeans.KMeans 모듈의 클래스입니다. 모델 교육을 시작하려면 fit 메서드를 호출합니다.\n",
    "\n",
    "1. sagemaker.amazon.kmeans.KMeans 클래스의 인스턴스를 만듭니다.\n",
    "\n",
    "    생성자에서 다음 파라미터를 지정합니다.\n",
    "\n",
    "        * role – Amazon SageMaker에서 수임하여 사용자를 대신해 작업(예: S3 버킷에서 호출된 모델 아티팩트인 교육 결과 읽기 및 Amazon S3에 교육 결과 쓰기)을 수행하는 IAM 역할입니다.\n",
    "\n",
    "        * output_path – Amazon SageMaker가 교육 결과를 저장하는 S3 위치.\n",
    "\n",
    "        * train_instance_count 및 train_instance_type – 모델 교육에 사용할 ML 컴퓨팅 인스턴스의 유형과 수.\n",
    "\n",
    "        * k – 생성할 클러스터의 수. 자세한 정보는 k-means 하이퍼파라미터 단원을 참조하십시오.\n",
    "\n",
    "        * data_location – 상위 수준 라이브러리가 변형된 교육 데이터를 업로드하는 S3 위치."
   ]
  },
  {
   "cell_type": "code",
   "execution_count": 5,
   "metadata": {},
   "outputs": [
    {
     "name": "stdout",
     "output_type": "stream",
     "text": [
      "training data will be uploaded to: s3://sagemaker-intelligentqa/kmeans_highlevel_example/data\n",
      "training artifacts will be uploaded to: s3://sagemaker-intelligentqa/kmeans_example/output\n"
     ]
    }
   ],
   "source": [
    "from sagemaker import KMeans\n",
    "\n",
    "data_location = 's3://{}/kmeans_highlevel_example/data'.format(bucket)\n",
    "output_location = 's3://{}/kmeans_example/output'.format(bucket)\n",
    "\n",
    "print('training data will be uploaded to: {}'.format(data_location))\n",
    "print('training artifacts will be uploaded to: {}'.format(output_location))\n",
    "\n",
    "kmeans = KMeans(role=role,\n",
    "                train_instance_count=2,\n",
    "                train_instance_type='ml.c4.8xlarge',\n",
    "                output_path=output_location,\n",
    "                k=10,\n",
    "                data_location=data_location)"
   ]
  },
  {
   "cell_type": "markdown",
   "metadata": {},
   "source": [
    "2. 모델 교육을 시작하려면 KMeans 예측기의 fit 메서드를 호출합니다.\n",
    "\n",
    "이는 동기식 작업입니다. 메서드는 진행 로그를 표시하고 교육 완료까지 대기한 다음 반환합니다. 모델 교육에 대한 자세한 정보는 Amazon SageMaker를 사용한 모델 교육 단원을 참조하십시오.\n",
    "\n",
    "이 예제의 모델 교육은 약 15분이 소요됩니다."
   ]
  },
  {
   "cell_type": "code",
   "execution_count": 6,
   "metadata": {},
   "outputs": [
    {
     "name": "stderr",
     "output_type": "stream",
     "text": [
      "INFO:sagemaker:Creating training-job with name: kmeans-2018-11-07-05-34-33-504\n"
     ]
    },
    {
     "name": "stdout",
     "output_type": "stream",
     "text": [
      "2018-11-07 05:34:33 Starting - Starting the training job...\n",
      "2018-11-07 05:34:36 Starting - Launching requested ML instances......\n",
      "2018-11-07 05:35:35 Starting - Preparing the instances for training........\n",
      "\u001b[32mDocker entrypoint called with argument(s): train\u001b[0m\n",
      "\u001b[31mDocker entrypoint called with argument(s): train\u001b[0m\n",
      "\u001b[31m[11/07/2018 05:37:19 INFO 140243109685056] Reading default configuration from /opt/amazon/lib/python2.7/site-packages/algorithm/resources/default-input.json: {u'_tuning_objective_metric': u'', u'_num_gpus': u'auto', u'local_lloyd_num_trials': u'auto', u'_log_level': u'info', u'_kvstore': u'auto', u'local_lloyd_init_method': u'kmeans++', u'force_dense': u'true', u'epochs': u'1', u'init_method': u'random', u'local_lloyd_tol': u'0.0001', u'local_lloyd_max_iter': u'300', u'_disable_wait_to_read': u'false', u'extra_center_factor': u'auto', u'eval_metrics': u'[\"msd\"]', u'_num_kv_servers': u'1', u'mini_batch_size': u'5000', u'half_life_time_size': u'0', u'_num_slices': u'1'}\u001b[0m\n",
      "\u001b[31m[11/07/2018 05:37:19 INFO 140243109685056] Reading provided configuration from /opt/ml/input/config/hyperparameters.json: {u'feature_dim': u'784', u'k': u'10', u'force_dense': u'True'}\u001b[0m\n",
      "\u001b[31m[11/07/2018 05:37:19 INFO 140243109685056] Final configuration: {u'k': u'10', u'_tuning_objective_metric': u'', u'_num_gpus': u'auto', u'local_lloyd_num_trials': u'auto', u'_log_level': u'info', u'_kvstore': u'auto', u'local_lloyd_init_method': u'kmeans++', u'force_dense': u'True', u'epochs': u'1', u'init_method': u'random', u'feature_dim': u'784', u'local_lloyd_tol': u'0.0001', u'local_lloyd_max_iter': u'300', u'_disable_wait_to_read': u'false', u'extra_center_factor': u'auto', u'eval_metrics': u'[\"msd\"]', u'_num_kv_servers': u'1', u'mini_batch_size': u'5000', u'half_life_time_size': u'0', u'_num_slices': u'1'}\u001b[0m\n",
      "\u001b[31m[11/07/2018 05:37:19 WARNING 140243109685056] Loggers have already been setup.\u001b[0m\n",
      "\u001b[31m[11/07/2018 05:37:19 INFO 140243109685056] Launching parameter server for role scheduler\u001b[0m\n",
      "\u001b[31m[11/07/2018 05:37:19 INFO 140243109685056] {'ECS_CONTAINER_METADATA_URI': 'http://169.254.170.2/v3/3b2a18fe-9735-47f1-ad95-92794d652603', 'PROTOCOL_BUFFERS_PYTHON_IMPLEMENTATION_VERSION': '2', 'PATH': '/opt/amazon/bin:/usr/local/nvidia/bin:/usr/local/sbin:/usr/local/bin:/usr/sbin:/usr/bin:/sbin:/bin:/opt/amazon/bin:/opt/amazon/bin', 'SAGEMAKER_HTTP_PORT': '8080', 'HOME': '/root', 'PYTHONUNBUFFERED': 'TRUE', 'CANONICAL_ENVROOT': '/opt/amazon', 'LD_LIBRARY_PATH': '/usr/local/nvidia/lib64:/opt/amazon/lib', 'MXNET_KVSTORE_BIGARRAY_BOUND': '400000000', 'LANG': 'en_US.utf8', 'DMLC_INTERFACE': 'ethwe', 'SHLVL': '1', 'AWS_REGION': 'ap-northeast-2', 'NVIDIA_VISIBLE_DEVICES': 'all', 'TRAINING_JOB_NAME': 'kmeans-2018-11-07-05-34-33-504', 'PROTOCOL_BUFFERS_PYTHON_IMPLEMENTATION': 'cpp', 'ENVROOT': '/opt/amazon', 'SAGEMAKER_DATA_PATH': '/opt/ml', 'NVIDIA_DRIVER_CAPABILITIES': 'compute,utility', 'NVIDIA_REQUIRE_CUDA': 'cuda>=9.0', 'OMP_NUM_THREADS': '18', 'HOSTNAME': 'aws', 'AWS_CONTAINER_CREDENTIALS_RELATIVE_URI': '/v2/credentials/a723ab94-ef0b-43c4-a6c2-b51e456e6050', 'PWD': '/', 'AWS_EXECUTION_ENV': 'AWS_ECS_EC2'}\u001b[0m\n",
      "\u001b[31m[11/07/2018 05:37:19 INFO 140243109685056] envs={'ECS_CONTAINER_METADATA_URI': 'http://169.254.170.2/v3/3b2a18fe-9735-47f1-ad95-92794d652603', 'PROTOCOL_BUFFERS_PYTHON_IMPLEMENTATION_VERSION': '2', 'DMLC_NUM_WORKER': '2', 'DMLC_PS_ROOT_PORT': '9000', 'PATH': '/opt/amazon/bin:/usr/local/nvidia/bin:/usr/local/sbin:/usr/local/bin:/usr/sbin:/usr/bin:/sbin:/bin:/opt/amazon/bin:/opt/amazon/bin', 'SAGEMAKER_HTTP_PORT': '8080', 'HOME': '/root', 'PYTHONUNBUFFERED': 'TRUE', 'CANONICAL_ENVROOT': '/opt/amazon', 'LD_LIBRARY_PATH': '/usr/local/nvidia/lib64:/opt/amazon/lib', 'MXNET_KVSTORE_BIGARRAY_BOUND': '400000000', 'LANG': 'en_US.utf8', 'DMLC_INTERFACE': 'ethwe', 'SHLVL': '1', 'DMLC_PS_ROOT_URI': '10.40.0.3', 'AWS_REGION': 'ap-northeast-2', 'NVIDIA_VISIBLE_DEVICES': 'all', 'TRAINING_JOB_NAME': 'kmeans-2018-11-07-05-34-33-504', 'PROTOCOL_BUFFERS_PYTHON_IMPLEMENTATION': 'cpp', 'ENVROOT': '/opt/amazon', 'SAGEMAKER_DATA_PATH': '/opt/ml', 'NVIDIA_DRIVER_CAPABILITIES': 'compute,utility', 'NVIDIA_REQUIRE_CUDA': 'cuda>=9.0', 'OMP_NUM_THREADS': '18', 'HOSTNAME': 'aws', 'AWS_CONTAINER_CREDENTIALS_RELATIVE_URI': '/v2/credentials/a723ab94-ef0b-43c4-a6c2-b51e456e6050', 'DMLC_ROLE': 'scheduler', 'PWD': '/', 'DMLC_NUM_SERVER': '1', 'AWS_EXECUTION_ENV': 'AWS_ECS_EC2'}\u001b[0m\n",
      "\u001b[31m[11/07/2018 05:37:19 INFO 140243109685056] Launching parameter server for role server\u001b[0m\n",
      "\u001b[31m[11/07/2018 05:37:19 INFO 140243109685056] {'ECS_CONTAINER_METADATA_URI': 'http://169.254.170.2/v3/3b2a18fe-9735-47f1-ad95-92794d652603', 'PROTOCOL_BUFFERS_PYTHON_IMPLEMENTATION_VERSION': '2', 'PATH': '/opt/amazon/bin:/usr/local/nvidia/bin:/usr/local/sbin:/usr/local/bin:/usr/sbin:/usr/bin:/sbin:/bin:/opt/amazon/bin:/opt/amazon/bin', 'SAGEMAKER_HTTP_PORT': '8080', 'HOME': '/root', 'PYTHONUNBUFFERED': 'TRUE', 'CANONICAL_ENVROOT': '/opt/amazon', 'LD_LIBRARY_PATH': '/usr/local/nvidia/lib64:/opt/amazon/lib', 'MXNET_KVSTORE_BIGARRAY_BOUND': '400000000', 'LANG': 'en_US.utf8', 'DMLC_INTERFACE': 'ethwe', 'SHLVL': '1', 'AWS_REGION': 'ap-northeast-2', 'NVIDIA_VISIBLE_DEVICES': 'all', 'TRAINING_JOB_NAME': 'kmeans-2018-11-07-05-34-33-504', 'PROTOCOL_BUFFERS_PYTHON_IMPLEMENTATION': 'cpp', 'ENVROOT': '/opt/amazon', 'SAGEMAKER_DATA_PATH': '/opt/ml', 'NVIDIA_DRIVER_CAPABILITIES': 'compute,utility', 'NVIDIA_REQUIRE_CUDA': 'cuda>=9.0', 'OMP_NUM_THREADS': '18', 'HOSTNAME': 'aws', 'AWS_CONTAINER_CREDENTIALS_RELATIVE_URI': '/v2/credentials/a723ab94-ef0b-43c4-a6c2-b51e456e6050', 'PWD': '/', 'AWS_EXECUTION_ENV': 'AWS_ECS_EC2'}\u001b[0m\n",
      "\u001b[31m[11/07/2018 05:37:19 INFO 140243109685056] envs={'ECS_CONTAINER_METADATA_URI': 'http://169.254.170.2/v3/3b2a18fe-9735-47f1-ad95-92794d652603', 'PROTOCOL_BUFFERS_PYTHON_IMPLEMENTATION_VERSION': '2', 'DMLC_NUM_WORKER': '2', 'DMLC_PS_ROOT_PORT': '9000', 'PATH': '/opt/amazon/bin:/usr/local/nvidia/bin:/usr/local/sbin:/usr/local/bin:/usr/sbin:/usr/bin:/sbin:/bin:/opt/amazon/bin:/opt/amazon/bin', 'SAGEMAKER_HTTP_PORT': '8080', 'HOME': '/root', 'PYTHONUNBUFFERED': 'TRUE', 'CANONICAL_ENVROOT': '/opt/amazon', 'LD_LIBRARY_PATH': '/usr/local/nvidia/lib64:/opt/amazon/lib', 'MXNET_KVSTORE_BIGARRAY_BOUND': '400000000', 'LANG': 'en_US.utf8', 'DMLC_INTERFACE': 'ethwe', 'SHLVL': '1', 'DMLC_PS_ROOT_URI': '10.40.0.3', 'AWS_REGION': 'ap-northeast-2', 'NVIDIA_VISIBLE_DEVICES': 'all', 'TRAINING_JOB_NAME': 'kmeans-2018-11-07-05-34-33-504', 'PROTOCOL_BUFFERS_PYTHON_IMPLEMENTATION': 'cpp', 'ENVROOT': '/opt/amazon', 'SAGEMAKER_DATA_PATH': '/opt/ml', 'NVIDIA_DRIVER_CAPABILITIES': 'compute,utility', 'NVIDIA_REQUIRE_CUDA': 'cuda>=9.0', 'OMP_NUM_THREADS': '18', 'HOSTNAME': 'aws', 'AWS_CONTAINER_CREDENTIALS_RELATIVE_URI': '/v2/credentials/a723ab94-ef0b-43c4-a6c2-b51e456e6050', 'DMLC_ROLE': 'server', 'PWD': '/', 'DMLC_NUM_SERVER': '1', 'AWS_EXECUTION_ENV': 'AWS_ECS_EC2'}\u001b[0m\n",
      "\u001b[31m[11/07/2018 05:37:19 INFO 140243109685056] Environment: {'ECS_CONTAINER_METADATA_URI': 'http://169.254.170.2/v3/3b2a18fe-9735-47f1-ad95-92794d652603', 'PROTOCOL_BUFFERS_PYTHON_IMPLEMENTATION_VERSION': '2', 'DMLC_PS_ROOT_PORT': '9000', 'DMLC_NUM_WORKER': '2', 'SAGEMAKER_HTTP_PORT': '8080', 'PATH': '/opt/amazon/bin:/usr/local/nvidia/bin:/usr/local/sbin:/usr/local/bin:/usr/sbin:/usr/bin:/sbin:/bin:/opt/amazon/bin:/opt/amazon/bin', 'PYTHONUNBUFFERED': 'TRUE', 'CANONICAL_ENVROOT': '/opt/amazon', 'LD_LIBRARY_PATH': '/usr/local/nvidia/lib64:/opt/amazon/lib', 'MXNET_KVSTORE_BIGARRAY_BOUND': '400000000', 'LANG': 'en_US.utf8', 'DMLC_INTERFACE': 'ethwe', 'SHLVL': '1', 'DMLC_PS_ROOT_URI': '10.40.0.3', 'AWS_REGION': 'ap-northeast-2', 'NVIDIA_VISIBLE_DEVICES': 'all', 'TRAINING_JOB_NAME': 'kmeans-2018-11-07-05-34-33-504', 'HOME': '/root', 'PROTOCOL_BUFFERS_PYTHON_IMPLEMENTATION': 'cpp', 'ENVROOT': '/opt/amazon', 'SAGEMAKER_DATA_PATH': '/opt/ml', 'NVIDIA_DRIVER_CAPABILITIES': 'compute,utility', 'NVIDIA_REQUIRE_CUDA': 'cuda>=9.0', 'OMP_NUM_THREADS': '18', 'HOSTNAME': 'aws', 'AWS_CONTAINER_CREDENTIALS_RELATIVE_URI': '/v2/credentials/a723ab94-ef0b-43c4-a6c2-b51e456e6050', 'DMLC_ROLE': 'worker', 'PWD': '/', 'DMLC_NUM_SERVER': '1', 'AWS_EXECUTION_ENV': 'AWS_ECS_EC2'}\u001b[0m\n",
      "\u001b[31m[11/07/2018 05:37:19 INFO 140243109685056] Using default worker.\u001b[0m\n",
      "\u001b[31m[11/07/2018 05:37:19 INFO 140243109685056] Loaded iterator creator application/x-recordio-protobuf for content type ('application/x-recordio-protobuf', '1.0')\u001b[0m\n",
      "\u001b[31m[11/07/2018 05:37:19 INFO 140243109685056] Create Store: dist_async\u001b[0m\n",
      "\u001b[32m[11/07/2018 05:37:19 INFO 140521776670528] Reading default configuration from /opt/amazon/lib/python2.7/site-packages/algorithm/resources/default-input.json: {u'_tuning_objective_metric': u'', u'_num_gpus': u'auto', u'local_lloyd_num_trials': u'auto', u'_log_level': u'info', u'_kvstore': u'auto', u'local_lloyd_init_method': u'kmeans++', u'force_dense': u'true', u'epochs': u'1', u'init_method': u'random', u'local_lloyd_tol': u'0.0001', u'local_lloyd_max_iter': u'300', u'_disable_wait_to_read': u'false', u'extra_center_factor': u'auto', u'eval_metrics': u'[\"msd\"]', u'_num_kv_servers': u'1', u'mini_batch_size': u'5000', u'half_life_time_size': u'0', u'_num_slices': u'1'}\u001b[0m\n",
      "\u001b[32m[11/07/2018 05:37:19 INFO 140521776670528] Reading provided configuration from /opt/ml/input/config/hyperparameters.json: {u'feature_dim': u'784', u'k': u'10', u'force_dense': u'True'}\u001b[0m\n",
      "\u001b[32m[11/07/2018 05:37:19 INFO 140521776670528] Final configuration: {u'k': u'10', u'_tuning_objective_metric': u'', u'_num_gpus': u'auto', u'local_lloyd_num_trials': u'auto', u'_log_level': u'info', u'_kvstore': u'auto', u'local_lloyd_init_method': u'kmeans++', u'force_dense': u'True', u'epochs': u'1', u'init_method': u'random', u'feature_dim': u'784', u'local_lloyd_tol': u'0.0001', u'local_lloyd_max_iter': u'300', u'_disable_wait_to_read': u'false', u'extra_center_factor': u'auto', u'eval_metrics': u'[\"msd\"]', u'_num_kv_servers': u'1', u'mini_batch_size': u'5000', u'half_life_time_size': u'0', u'_num_slices': u'1'}\u001b[0m\n",
      "\u001b[32m[11/07/2018 05:37:19 WARNING 140521776670528] Loggers have already been setup.\u001b[0m\n",
      "\u001b[32m[11/07/2018 05:37:19 INFO 140521776670528] Environment: {'ECS_CONTAINER_METADATA_URI': 'http://169.254.170.2/v3/37eee95c-e0b8-4c50-8992-dc5b2c262b1a', 'PROTOCOL_BUFFERS_PYTHON_IMPLEMENTATION_VERSION': '2', 'DMLC_PS_ROOT_PORT': '9000', 'DMLC_NUM_WORKER': '2', 'SAGEMAKER_HTTP_PORT': '8080', 'PATH': '/opt/amazon/bin:/usr/local/nvidia/bin:/usr/local/sbin:/usr/local/bin:/usr/sbin:/usr/bin:/sbin:/bin:/opt/amazon/bin:/opt/amazon/bin', 'PYTHONUNBUFFERED': 'TRUE', 'CANONICAL_ENVROOT': '/opt/amazon', 'LD_LIBRARY_PATH': '/usr/local/nvidia/lib64:/opt/amazon/lib', 'MXNET_KVSTORE_BIGARRAY_BOUND': '400000000', 'LANG': 'en_US.utf8', 'DMLC_INTERFACE': 'ethwe', 'SHLVL': '1', 'DMLC_PS_ROOT_URI': '10.40.0.3', 'AWS_REGION': 'ap-northeast-2', 'NVIDIA_VISIBLE_DEVICES': 'all', 'TRAINING_JOB_NAME': 'kmeans-2018-11-07-05-34-33-504', 'HOME': '/root', 'PROTOCOL_BUFFERS_PYTHON_IMPLEMENTATION': 'cpp', 'ENVROOT': '/opt/amazon', 'SAGEMAKER_DATA_PATH': '/opt/ml', 'NVIDIA_DRIVER_CAPABILITIES': 'compute,utility', 'NVIDIA_REQUIRE_CUDA': 'cuda>=9.0', 'OMP_NUM_THREADS': '18', 'HOSTNAME': 'aws', 'AWS_CONTAINER_CREDENTIALS_RELATIVE_URI': '/v2/credentials/7e53cbc5-37a4-4793-8789-cc105f5497f8', 'DMLC_ROLE': 'worker', 'PWD': '/', 'DMLC_NUM_SERVER': '1', 'AWS_EXECUTION_ENV': 'AWS_ECS_EC2'}\u001b[0m\n",
      "\u001b[32m[11/07/2018 05:37:19 INFO 140521776670528] Using default worker.\u001b[0m\n",
      "\u001b[32m[11/07/2018 05:37:19 INFO 140521776670528] Loaded iterator creator application/x-recordio-protobuf for content type ('application/x-recordio-protobuf', '1.0')\u001b[0m\n",
      "\u001b[32m[11/07/2018 05:37:19 INFO 140521776670528] Create Store: dist_async\u001b[0m\n",
      "\u001b[31m[11/07/2018 05:37:20 INFO 140243109685056] nvidia-smi took: 0.0252470970154 secs to identify 0 gpus\u001b[0m\n",
      "\u001b[31m[11/07/2018 05:37:20 INFO 140243109685056] Number of GPUs being used: 0\u001b[0m\n",
      "\u001b[31m[11/07/2018 05:37:20 INFO 140243109685056] Setting up with params: {u'k': u'10', u'_tuning_objective_metric': u'', u'_num_gpus': u'auto', u'local_lloyd_num_trials': u'auto', u'_log_level': u'info', u'_kvstore': u'auto', u'local_lloyd_init_method': u'kmeans++', u'force_dense': u'True', u'epochs': u'1', u'init_method': u'random', u'feature_dim': u'784', u'local_lloyd_tol': u'0.0001', u'local_lloyd_max_iter': u'300', u'_disable_wait_to_read': u'false', u'extra_center_factor': u'auto', u'eval_metrics': u'[\"msd\"]', u'_num_kv_servers': u'1', u'mini_batch_size': u'5000', u'half_life_time_size': u'0', u'_num_slices': u'1'}\u001b[0m\n",
      "\u001b[31m/opt/amazon/lib/python2.7/site-packages/ai_algorithms_sdk/config/config_helper.py:172: DeprecationWarning: deprecated\n",
      "  warnings.warn(\"deprecated\", DeprecationWarning)\u001b[0m\n",
      "\u001b[31m/opt/amazon/lib/python2.7/site-packages/ai_algorithms_sdk/config/config_helper.py:122: DeprecationWarning: deprecated\n",
      "  warnings.warn(\"deprecated\", DeprecationWarning)\u001b[0m\n",
      "\u001b[31m[11/07/2018 05:37:20 INFO 140243109685056] Number of GPUs being used: 0\u001b[0m\n",
      "\u001b[31m[11/07/2018 05:37:20 INFO 140243109685056] number of center slices 1\u001b[0m\n",
      "\u001b[31m#metrics {\"Metrics\": {\"Max Batches Seen Between Resets\": {\"count\": 1, \"max\": 1, \"sum\": 1.0, \"min\": 1}, \"Number of Batches Since Last Reset\": {\"count\": 1, \"max\": 1, \"sum\": 1.0, \"min\": 1}, \"Number of Records Since Last Reset\": {\"count\": 1, \"max\": 5000, \"sum\": 5000.0, \"min\": 5000}, \"Total Batches Seen\": {\"count\": 1, \"max\": 1, \"sum\": 1.0, \"min\": 1}, \"Total Records Seen\": {\"count\": 1, \"max\": 5000, \"sum\": 5000.0, \"min\": 5000}, \"Max Records Seen Between Resets\": {\"count\": 1, \"max\": 5000, \"sum\": 5000.0, \"min\": 5000}, \"Reset Count\": {\"count\": 1, \"max\": 0, \"sum\": 0.0, \"min\": 0}}, \"EndTime\": 1541569040.473176, \"Dimensions\": {\"Host\": \"algo-1\", \"Meta\": \"init_train_data_iter\", \"Operation\": \"training\", \"Algorithm\": \"AWS/KMeansWebscale\"}, \"StartTime\": 1541569040.473146}\n",
      "\u001b[0m\n",
      "\u001b[31m[2018-11-07 05:37:20.477] [tensorio] [info] data_pipeline_stats={\"name\": \"/opt/ml/input/data/train\", \"epoch\": 1, \"duration\": 40, \"num_examples\": 1}\u001b[0m\n",
      "\u001b[32m[11/07/2018 05:37:20 INFO 140521776670528] nvidia-smi took: 0.0252089500427 secs to identify 0 gpus\u001b[0m\n",
      "\u001b[32m[11/07/2018 05:37:20 INFO 140521776670528] Number of GPUs being used: 0\u001b[0m\n",
      "\u001b[32m[11/07/2018 05:37:20 INFO 140521776670528] Setting up with params: {u'k': u'10', u'_tuning_objective_metric': u'', u'_num_gpus': u'auto', u'local_lloyd_num_trials': u'auto', u'_log_level': u'info', u'_kvstore': u'auto', u'local_lloyd_init_method': u'kmeans++', u'force_dense': u'True', u'epochs': u'1', u'init_method': u'random', u'feature_dim': u'784', u'local_lloyd_tol': u'0.0001', u'local_lloyd_max_iter': u'300', u'_disable_wait_to_read': u'false', u'extra_center_factor': u'auto', u'eval_metrics': u'[\"msd\"]', u'_num_kv_servers': u'1', u'mini_batch_size': u'5000', u'half_life_time_size': u'0', u'_num_slices': u'1'}\u001b[0m\n",
      "\u001b[32m/opt/amazon/lib/python2.7/site-packages/ai_algorithms_sdk/config/config_helper.py:172: DeprecationWarning: deprecated\n",
      "  warnings.warn(\"deprecated\", DeprecationWarning)\u001b[0m\n",
      "\u001b[32m/opt/amazon/lib/python2.7/site-packages/ai_algorithms_sdk/config/config_helper.py:122: DeprecationWarning: deprecated\n",
      "  warnings.warn(\"deprecated\", DeprecationWarning)\u001b[0m\n",
      "\u001b[32m[11/07/2018 05:37:20 INFO 140521776670528] Number of GPUs being used: 0\u001b[0m\n",
      "\u001b[32m[11/07/2018 05:37:20 INFO 140521776670528] number of center slices 1\u001b[0m\n",
      "\u001b[32m#metrics {\"Metrics\": {\"Max Batches Seen Between Resets\": {\"count\": 1, \"max\": 1, \"sum\": 1.0, \"min\": 1}, \"Number of Batches Since Last Reset\": {\"count\": 1, \"max\": 1, \"sum\": 1.0, \"min\": 1}, \"Number of Records Since Last Reset\": {\"count\": 1, \"max\": 5000, \"sum\": 5000.0, \"min\": 5000}, \"Total Batches Seen\": {\"count\": 1, \"max\": 1, \"sum\": 1.0, \"min\": 1}, \"Total Records Seen\": {\"count\": 1, \"max\": 5000, \"sum\": 5000.0, \"min\": 5000}, \"Max Records Seen Between Resets\": {\"count\": 1, \"max\": 5000, \"sum\": 5000.0, \"min\": 5000}, \"Reset Count\": {\"count\": 1, \"max\": 0, \"sum\": 0.0, \"min\": 0}}, \"EndTime\": 1541569040.471207, \"Dimensions\": {\"Host\": \"algo-2\", \"Meta\": \"init_train_data_iter\", \"Operation\": \"training\", \"Algorithm\": \"AWS/KMeansWebscale\"}, \"StartTime\": 1541569040.471179}\n",
      "\u001b[0m\n",
      "\u001b[32m[2018-11-07 05:37:20.474] [tensorio] [info] data_pipeline_stats={\"name\": \"/opt/ml/input/data/train\", \"epoch\": 1, \"duration\": 41, \"num_examples\": 1}\u001b[0m\n",
      "\u001b[32m[11/07/2018 05:37:20 INFO 140521776670528] processed a total of 25000 examples\u001b[0m\n",
      "\u001b[32m[11/07/2018 05:37:20 INFO 140521776670528] #progress_metric: host=algo-2, completed 100 % of epochs\u001b[0m\n",
      "\u001b[32m#metrics {\"Metrics\": {\"Max Batches Seen Between Resets\": {\"count\": 1, \"max\": 5, \"sum\": 5.0, \"min\": 5}, \"Number of Batches Since Last Reset\": {\"count\": 1, \"max\": 5, \"sum\": 5.0, \"min\": 5}, \"Number of Records Since Last Reset\": {\"count\": 1, \"max\": 25000, \"sum\": 25000.0, \"min\": 25000}, \"Total Batches Seen\": {\"count\": 1, \"max\": 6, \"sum\": 6.0, \"min\": 6}, \"Total Records Seen\": {\"count\": 1, \"max\": 30000, \"sum\": 30000.0, \"min\": 30000}, \"Max Records Seen Between Resets\": {\"count\": 1, \"max\": 25000, \"sum\": 25000.0, \"min\": 25000}, \"Reset Count\": {\"count\": 1, \"max\": 1, \"sum\": 1.0, \"min\": 1}}, \"EndTime\": 1541569040.648479, \"Dimensions\": {\"Host\": \"algo-2\", \"Meta\": \"training_data_iter\", \"Operation\": \"training\", \"Algorithm\": \"AWS/KMeansWebscale\", \"epoch\": 0}, \"StartTime\": 1541569040.474472}\n",
      "\u001b[0m\n",
      "\u001b[32m[11/07/2018 05:37:20 INFO 140521776670528] #throughput_metric: host=algo-2, train throughput=143579.182596 records/second\u001b[0m\n",
      "\u001b[32m[11/07/2018 05:37:20 INFO 140521776670528] shrinking 100 centers into 10\u001b[0m\n",
      "\u001b[32m[11/07/2018 05:37:20 INFO 140521776670528] local kmeans attempt #0. Current mean square distance 10.809793\u001b[0m\n",
      "\u001b[32m[11/07/2018 05:37:20 INFO 140521776670528] local kmeans attempt #1. Current mean square distance 11.005739\u001b[0m\n",
      "\u001b[32m[11/07/2018 05:37:20 INFO 140521776670528] local kmeans attempt #2. Current mean square distance 10.522556\u001b[0m\n",
      "\u001b[32m[11/07/2018 05:37:20 INFO 140521776670528] local kmeans attempt #3. Current mean square distance 11.173870\u001b[0m\n",
      "\u001b[32m[11/07/2018 05:37:20 INFO 140521776670528] local kmeans attempt #4. Current mean square distance 11.683456\u001b[0m\n",
      "\u001b[32m[11/07/2018 05:37:20 INFO 140521776670528] local kmeans attempt #5. Current mean square distance 10.919014\u001b[0m\n",
      "\u001b[32m[11/07/2018 05:37:20 INFO 140521776670528] local kmeans attempt #6. Current mean square distance 10.683447\u001b[0m\n",
      "\u001b[32m[11/07/2018 05:37:20 INFO 140521776670528] local kmeans attempt #7. Current mean square distance 11.143170\u001b[0m\n",
      "\u001b[32m[11/07/2018 05:37:20 INFO 140521776670528] local kmeans attempt #8. Current mean square distance 10.807840\u001b[0m\n",
      "\u001b[32m[11/07/2018 05:37:20 INFO 140521776670528] local kmeans attempt #9. Current mean square distance 10.955012\u001b[0m\n",
      "\u001b[32m[11/07/2018 05:37:20 INFO 140521776670528] finished shrinking process. Mean Square Distance = 11\u001b[0m\n",
      "\u001b[32m[11/07/2018 05:37:20 INFO 140521776670528] #quality_metric: host=algo-2, train msd <loss>=10.5225563049\u001b[0m\n",
      "\u001b[32m[11/07/2018 05:37:20 INFO 140521776670528] batch data loading with context took: 23.3074%, (0.041113 secs)\u001b[0m\n",
      "\u001b[32m[11/07/2018 05:37:20 INFO 140521776670528] compute all data-center distances: inner product took: 21.0197%, (0.037078 secs)\u001b[0m\n",
      "\u001b[32m[11/07/2018 05:37:20 INFO 140521776670528] compute all data-center distances: point norm took: 19.2698%, (0.033991 secs)\u001b[0m\n",
      "\u001b[32m[11/07/2018 05:37:20 INFO 140521776670528] predict compute msd took: 11.8320%, (0.020871 secs)\u001b[0m\n",
      "\u001b[32m[11/07/2018 05:37:20 INFO 140521776670528] collect from kv store took: 9.2100%, (0.016246 secs)\u001b[0m\n",
      "\u001b[32m[11/07/2018 05:37:20 INFO 140521776670528] gradient: cluster center took: 8.0257%, (0.014157 secs)\u001b[0m\n",
      "\u001b[32m[11/07/2018 05:37:20 INFO 140521776670528] splitting centers key-value pair took: 2.3196%, (0.004092 secs)\u001b[0m\n",
      "\u001b[32m[11/07/2018 05:37:20 INFO 140521776670528] gradient: one_hot took: 1.9820%, (0.003496 secs)\u001b[0m\n",
      "\u001b[32m[11/07/2018 05:37:20 INFO 140521776670528] gradient: cluster size  took: 1.6951%, (0.002990 secs)\u001b[0m\n",
      "\u001b[32m[11/07/2018 05:37:20 INFO 140521776670528] update state and report convergance took: 0.6207%, (0.001095 secs)\u001b[0m\n",
      "\u001b[32m[11/07/2018 05:37:20 INFO 140521776670528] compute all data-center distances: center norm took: 0.5629%, (0.000993 secs)\u001b[0m\n",
      "\u001b[32m[11/07/2018 05:37:20 INFO 140521776670528] update set-up time took: 0.0981%, (0.000173 secs)\u001b[0m\n",
      "\u001b[32m[11/07/2018 05:37:20 INFO 140521776670528] predict minus dist took: 0.0569%, (0.000100 secs)\u001b[0m\n",
      "\u001b[32m[11/07/2018 05:37:20 INFO 140521776670528] TOTAL took: 0.176395893097\u001b[0m\n",
      "\u001b[32m[11/07/2018 05:37:20 INFO 140521776670528] Number of GPUs being used: 0\u001b[0m\n",
      "\u001b[32m[11/07/2018 05:37:20 INFO 140521776670528] No model is serialized on a non-master node\u001b[0m\n",
      "\u001b[32m#metrics {\"Metrics\": {\"finalize.time\": {\"count\": 1, \"max\": 307.63888359069824, \"sum\": 307.63888359069824, \"min\": 307.63888359069824}, \"initialize.time\": {\"count\": 1, \"max\": 16.656160354614258, \"sum\": 16.656160354614258, \"min\": 16.656160354614258}, \"model.serialize.time\": {\"count\": 1, \"max\": 0.06985664367675781, \"sum\": 0.06985664367675781, \"min\": 0.06985664367675781}, \"update.time\": {\"count\": 1, \"max\": 173.842191696167, \"sum\": 173.842191696167, \"min\": 173.842191696167}, \"epochs\": {\"count\": 1, \"max\": 1, \"sum\": 1.0, \"min\": 1}, \"state.serialize.time\": {\"count\": 1, \"max\": 0.47707557678222656, \"sum\": 0.47707557678222656, \"min\": 0.47707557678222656}, \"_shrink.time\": {\"count\": 1, \"max\": 304.3677806854248, \"sum\": 304.3677806854248, \"min\": 304.3677806854248}}, \"EndTime\": 1541569040.973528, \"Dimensions\": {\"Host\": \"algo-2\", \"Operation\": \"training\", \"Algorithm\": \"AWS/KMeansWebscale\"}, \"StartTime\": 1541569040.432132}\n",
      "\u001b[0m\n",
      "\u001b[32m[11/07/2018 05:37:20 INFO 140521776670528] Test data is not provided.\u001b[0m\n",
      "\u001b[32m[2018-11-07 05:37:20.973] [tensorio] [info] data_pipeline_stats={\"name\": \"/opt/ml/input/data/train\", \"epoch\": 2, \"duration\": 499, \"num_examples\": 5}\u001b[0m\n",
      "\u001b[32m[2018-11-07 05:37:20.973] [tensorio] [info] data_pipeline_stats={\"name\": \"/opt/ml/input/data/train\", \"duration\": 540, \"num_epochs\": 2, \"num_examples\": 6}\u001b[0m\n",
      "\u001b[32m#metrics {\"Metrics\": {\"totaltime\": {\"count\": 1, \"max\": 1339.4851684570312, \"sum\": 1339.4851684570312, \"min\": 1339.4851684570312}, \"setuptime\": {\"count\": 1, \"max\": 16.923189163208008, \"sum\": 16.923189163208008, \"min\": 16.923189163208008}}, \"EndTime\": 1541569040.977215, \"Dimensions\": {\"Host\": \"algo-2\", \"Operation\": \"training\", \"Algorithm\": \"AWS/KMeansWebscale\"}, \"StartTime\": 1541569040.973615}\n",
      "\u001b[0m\n",
      "\u001b[31m[11/07/2018 05:37:20 INFO 140243109685056] processed a total of 25000 examples\u001b[0m\n",
      "\u001b[31m[11/07/2018 05:37:20 INFO 140243109685056] #progress_metric: host=algo-1, completed 100 % of epochs\u001b[0m\n",
      "\u001b[31m#metrics {\"Metrics\": {\"Max Batches Seen Between Resets\": {\"count\": 1, \"max\": 5, \"sum\": 5.0, \"min\": 5}, \"Number of Batches Since Last Reset\": {\"count\": 1, \"max\": 5, \"sum\": 5.0, \"min\": 5}, \"Number of Records Since Last Reset\": {\"count\": 1, \"max\": 25000, \"sum\": 25000.0, \"min\": 25000}, \"Total Batches Seen\": {\"count\": 1, \"max\": 6, \"sum\": 6.0, \"min\": 6}, \"Total Records Seen\": {\"count\": 1, \"max\": 30000, \"sum\": 30000.0, \"min\": 30000}, \"Max Records Seen Between Resets\": {\"count\": 1, \"max\": 25000, \"sum\": 25000.0, \"min\": 25000}, \"Reset Count\": {\"count\": 1, \"max\": 1, \"sum\": 1.0, \"min\": 1}}, \"EndTime\": 1541569040.666819, \"Dimensions\": {\"Host\": \"algo-1\", \"Meta\": \"training_data_iter\", \"Operation\": \"training\", \"Algorithm\": \"AWS/KMeansWebscale\", \"epoch\": 0}, \"StartTime\": 1541569040.477081}\n",
      "\u001b[0m\n",
      "\u001b[31m[11/07/2018 05:37:20 INFO 140243109685056] #throughput_metric: host=algo-1, train throughput=131634.408008 records/second\u001b[0m\n",
      "\u001b[31m[11/07/2018 05:37:20 INFO 140243109685056] shrinking 100 centers into 10\u001b[0m\n",
      "\u001b[31m[11/07/2018 05:37:20 INFO 140243109685056] local kmeans attempt #0. Current mean square distance 10.809793\u001b[0m\n",
      "\u001b[31m[11/07/2018 05:37:20 INFO 140243109685056] local kmeans attempt #1. Current mean square distance 10.737191\u001b[0m\n",
      "\u001b[31m[11/07/2018 05:37:20 INFO 140243109685056] local kmeans attempt #2. Current mean square distance 11.406394\u001b[0m\n",
      "\u001b[31m[11/07/2018 05:37:20 INFO 140243109685056] local kmeans attempt #3. Current mean square distance 10.973206\u001b[0m\n",
      "\u001b[31m[11/07/2018 05:37:20 INFO 140243109685056] local kmeans attempt #4. Current mean square distance 10.841548\u001b[0m\n",
      "\u001b[31m[11/07/2018 05:37:20 INFO 140243109685056] local kmeans attempt #5. Current mean square distance 11.151727\u001b[0m\n",
      "\u001b[31m[11/07/2018 05:37:20 INFO 140243109685056] local kmeans attempt #6. Current mean square distance 10.633424\u001b[0m\n",
      "\u001b[31m[11/07/2018 05:37:20 INFO 140243109685056] local kmeans attempt #7. Current mean square distance 11.399931\u001b[0m\n",
      "\u001b[31m[11/07/2018 05:37:20 INFO 140243109685056] local kmeans attempt #8. Current mean square distance 11.037940\u001b[0m\n",
      "\u001b[31m[11/07/2018 05:37:21 INFO 140243109685056] local kmeans attempt #9. Current mean square distance 10.989352\u001b[0m\n",
      "\u001b[31m[11/07/2018 05:37:21 INFO 140243109685056] finished shrinking process. Mean Square Distance = 11\u001b[0m\n",
      "\u001b[31m[11/07/2018 05:37:21 INFO 140243109685056] #quality_metric: host=algo-1, train msd <loss>=10.6334238052\u001b[0m\n",
      "\u001b[31m[11/07/2018 05:37:21 INFO 140243109685056] batch data loading with context took: 22.9917%, (0.043938 secs)\u001b[0m\n",
      "\u001b[31m[11/07/2018 05:37:21 INFO 140243109685056] compute all data-center distances: inner product took: 20.6758%, (0.039512 secs)\u001b[0m\n",
      "\u001b[31m[11/07/2018 05:37:21 INFO 140243109685056] compute all data-center distances: point norm took: 20.5476%, (0.039267 secs)\u001b[0m\n",
      "\u001b[31m[11/07/2018 05:37:21 INFO 140243109685056] predict compute msd took: 14.9704%, (0.028609 secs)\u001b[0m\n",
      "\u001b[31m[11/07/2018 05:37:21 INFO 140243109685056] gradient: cluster center took: 10.2520%, (0.019592 secs)\u001b[0m\n",
      "\u001b[31m[11/07/2018 05:37:21 INFO 140243109685056] collect from kv store took: 3.4501%, (0.006593 secs)\u001b[0m\n",
      "\u001b[31m[11/07/2018 05:37:21 INFO 140243109685056] gradient: cluster size  took: 2.0260%, (0.003872 secs)\u001b[0m\n",
      "\u001b[31m[11/07/2018 05:37:21 INFO 140243109685056] splitting centers key-value pair took: 1.8803%, (0.003593 secs)\u001b[0m\n",
      "\u001b[31m[11/07/2018 05:37:21 INFO 140243109685056] gradient: one_hot took: 1.6029%, (0.003063 secs)\u001b[0m\n",
      "\u001b[31m[11/07/2018 05:37:21 INFO 140243109685056] compute all data-center distances: center norm took: 0.7703%, (0.001472 secs)\u001b[0m\n",
      "\u001b[31m[11/07/2018 05:37:21 INFO 140243109685056] update state and report convergance took: 0.6813%, (0.001302 secs)\u001b[0m\n",
      "\u001b[31m[11/07/2018 05:37:21 INFO 140243109685056] update set-up time took: 0.0900%, (0.000172 secs)\u001b[0m\n",
      "\u001b[31m[11/07/2018 05:37:21 INFO 140243109685056] predict minus dist took: 0.0618%, (0.000118 secs)\u001b[0m\n",
      "\u001b[31m[11/07/2018 05:37:21 INFO 140243109685056] TOTAL took: 0.19110250473\u001b[0m\n",
      "\u001b[31m[11/07/2018 05:37:21 INFO 140243109685056] Number of GPUs being used: 0\u001b[0m\n",
      "\u001b[31m#metrics {\"Metrics\": {\"finalize.time\": {\"count\": 1, \"max\": 354.63500022888184, \"sum\": 354.63500022888184, \"min\": 354.63500022888184}, \"initialize.time\": {\"count\": 1, \"max\": 15.7470703125, \"sum\": 15.7470703125, \"min\": 15.7470703125}, \"model.serialize.time\": {\"count\": 1, \"max\": 0.23984909057617188, \"sum\": 0.23984909057617188, \"min\": 0.23984909057617188}, \"update.time\": {\"count\": 1, \"max\": 189.49294090270996, \"sum\": 189.49294090270996, \"min\": 189.49294090270996}, \"epochs\": {\"count\": 1, \"max\": 1, \"sum\": 1.0, \"min\": 1}, \"state.serialize.time\": {\"count\": 1, \"max\": 0.5040168762207031, \"sum\": 0.5040168762207031, \"min\": 0.5040168762207031}, \"_shrink.time\": {\"count\": 1, \"max\": 350.269079208374, \"sum\": 350.269079208374, \"min\": 350.269079208374}}, \"EndTime\": 1541569041.022962, \"Dimensions\": {\"Host\": \"algo-1\", \"Operation\": \"training\", \"Algorithm\": \"AWS/KMeansWebscale\"}, \"StartTime\": 1541569040.434986}\n",
      "\u001b[0m\n",
      "\u001b[31m[11/07/2018 05:37:21 INFO 140243109685056] Test data is not provided.\u001b[0m\n",
      "\u001b[31m[2018-11-07 05:37:21.023] [tensorio] [info] data_pipeline_stats={\"name\": \"/opt/ml/input/data/train\", \"epoch\": 2, \"duration\": 546, \"num_examples\": 5}\u001b[0m\n",
      "\u001b[31m[2018-11-07 05:37:21.023] [tensorio] [info] data_pipeline_stats={\"name\": \"/opt/ml/input/data/train\", \"duration\": 586, \"num_epochs\": 2, \"num_examples\": 6}\u001b[0m\n",
      "\u001b[31m#metrics {\"Metrics\": {\"totaltime\": {\"count\": 1, \"max\": 1749.5129108428955, \"sum\": 1749.5129108428955, \"min\": 1749.5129108428955}, \"setuptime\": {\"count\": 1, \"max\": 29.3118953704834, \"sum\": 29.3118953704834, \"min\": 29.3118953704834}}, \"EndTime\": 1541569041.029219, \"Dimensions\": {\"Host\": \"algo-1\", \"Operation\": \"training\", \"Algorithm\": \"AWS/KMeansWebscale\"}, \"StartTime\": 1541569041.023292}\n",
      "\u001b[0m\n"
     ]
    },
    {
     "name": "stdout",
     "output_type": "stream",
     "text": [
      "\n",
      "2018-11-07 05:37:28 Downloading - Downloading input data\n",
      "2018-11-07 05:37:28 Training - Training image download completed. Training in progress.\n",
      "2018-11-07 05:37:28 Uploading - Uploading generated training model\n",
      "2018-11-07 05:37:28 Completed - Training job completed\n",
      "Billable seconds: 44\n",
      "CPU times: user 8.11 s, sys: 377 ms, total: 8.48 s\n",
      "Wall time: 3min 21s\n"
     ]
    }
   ],
   "source": [
    "%%time\n",
    "\n",
    "kmeans.fit(kmeans.record_set(train_set[0]))"
   ]
  },
  {
   "cell_type": "markdown",
   "metadata": {},
   "source": [
    "### 6.2 SDK for Python을 사용합니다.\n",
    "\n",
    "하위 수준의 SDK for Python은 create_training_job 메서드를 제공합니다. 이는 기본 CreateTrainingJob Amazon SageMaker API로 매핑됩니다.\n",
    "\n",
    "코드는 Waiter를 사용하여 교육이 완료될 때까지 대기한 다음 반환합니다.\n",
    "\n",
    "이제 모델을 교육했습니다. 결과로 나온 아티팩트가 S3 버킷에 저장됩니다."
   ]
  },
  {
   "cell_type": "code",
   "execution_count": null,
   "metadata": {},
   "outputs": [],
   "source": [
    "%%time\n",
    "import boto3\n",
    "from time import gmtime, strftime\n",
    "\n",
    "job_name = 'kmeans-lowlevel-' + strftime(\"%Y-%m-%d-%H-%M-%S\", gmtime())\n",
    "print(\"Training job\", job_name)\n",
    "\n",
    "images = {'us-west-2': '174872318107.dkr.ecr.us-west-2.amazonaws.com/kmeans:latest',\n",
    "          'us-east-1': '382416733822.dkr.ecr.us-east-1.amazonaws.com/kmeans:latest',\n",
    "          'us-east-2': '404615174143.dkr.ecr.us-east-2.amazonaws.com/kmeans:latest',\n",
    "          'eu-west-1': '438346466558.dkr.ecr.eu-west-1.amazonaws.com/kmeans:latest'}\n",
    "image = images[boto3.Session().region_name]\n",
    "\n",
    "output_location = 's3://{}/kmeans_example/output'.format(bucket)\n",
    "print('training artifacts will be uploaded to: {}'.format(output_location))\n",
    "\n",
    "create_training_params = \\\n",
    "{\n",
    "    \"AlgorithmSpecification\": {\n",
    "        \"TrainingImage\": image,\n",
    "        \"TrainingInputMode\": \"File\"\n",
    "    },\n",
    "    \"RoleArn\": role,\n",
    "    \"OutputDataConfig\": {\n",
    "        \"S3OutputPath\": output_location\n",
    "    },\n",
    "    \"ResourceConfig\": {\n",
    "        \"InstanceCount\": 2,\n",
    "        \"InstanceType\": \"ml.c4.8xlarge\",\n",
    "        \"VolumeSizeInGB\": 50\n",
    "    },\n",
    "    \"TrainingJobName\": job_name,\n",
    "    \"HyperParameters\": {\n",
    "        \"k\": \"10\",\n",
    "        \"feature_dim\": \"784\",\n",
    "        \"mini_batch_size\": \"500\"\n",
    "    },\n",
    "    \"StoppingCondition\": {\n",
    "        \"MaxRuntimeInSeconds\": 60 * 60\n",
    "    },\n",
    "    \"InputDataConfig\": [\n",
    "        {\n",
    "            \"ChannelName\": \"train\",\n",
    "            \"DataSource\": {\n",
    "                \"S3DataSource\": {\n",
    "                    \"S3DataType\": \"S3Prefix\",\n",
    "                    \"S3Uri\": data_location,\n",
    "                    \"S3DataDistributionType\": \"FullyReplicated\"\n",
    "                }\n",
    "            },\n",
    "            \"CompressionType\": \"None\",\n",
    "            \"RecordWrapperType\": \"None\"\n",
    "        }\n",
    "    ]\n",
    "}\n",
    "\n",
    "\n",
    "sagemaker = boto3.client('sagemaker')\n",
    "\n",
    "sagemaker.create_training_job(**create_training_params)\n",
    "\n",
    "status = sagemaker.describe_training_job(TrainingJobName=job_name)['TrainingJobStatus']\n",
    "print(status)\n",
    "\n",
    "try:\n",
    "    sagemaker.get_waiter('training_job_completed_or_stopped').wait(TrainingJobName=job_name)\n",
    "finally:\n",
    "    status = sagemaker.describe_training_job(TrainingJobName=job_name)['TrainingJobStatus']\n",
    "    print(\"Training job ended with status: \" + status)\n",
    "    if status == 'Failed':\n",
    "        message = sagemaker.describe_training_job(TrainingJobName=job_name)['FailureReason']\n",
    "        print('Training failed with the following error: {}'.format(message))\n",
    "        raise Exception('Training job failed')"
   ]
  },
  {
   "cell_type": "markdown",
   "metadata": {},
   "source": [
    "## 7. Amazon SageMaker 호스팅 서비스로 모델 배포\n",
    "\n",
    "Amazon SageMaker의 모델 배포는 3단계 프로세스입니다.\n",
    "\n",
    "    1. Amazon SageMaker에서 모델 생성 – CreateModel 요청을 전송하여 정보(예: 모델 아티팩트가 포함된 S3 버킷의 위치 및 추론 코드를 포함하는 이미지의 레지스트리 경로)를 제공합니다. 다음 단계에서 엔드포인트 구성을 생성할 때 모델을 제공합니다.\n",
    "\n",
    "    2. 엔드포인트 구성 생성 – CreateEndpointConfig 요청을 전송하여 호스팅에 대한 리소스 구성을 제공합니다. 여기에는 모델 배포를 시작할 ML 컴퓨팅 인스턴스의 유형 및 수가 포함됩니다. 다음 단계에서 이 엔드포인트 구성을 사용하여 CreateEndpoint API가 포함된 엔드포인트를 생성합니다.\n",
    "\n",
    "    3. 엔드포인트 생성 – CreateEndpoint 요청을 전송하여 엔드포인트를 생성합니다. Amazon SageMaker가 ML 컴퓨팅 인스턴스를 시작하고 모델을 배포합니다. 그 응답으로 Amazon SageMaker는 엔드포인트를 반환합니다. 애플리케이션이 이 엔드포인트로 요청을 전송하여 모델로부터 추론을 가져올 수 있습니다.\n",
    "\n",
    "하위 수준 AWS SDK for Python은 해당 메서드를 제공합니다. 하지만 상위 수준 Python 라이브러리는 이 모든 작업을 수행하는 deploy 메서드를 제공합니다.\n",
    "\n",
    "모델을 배포하려면 다음 옵션 중 하나를 선택합니다.\n",
    "\n",
    "### 7.1. Amazon SageMaker에서 제공하는 상위 수준 Python 라이브러리 사용.\n",
    "\n",
    "    sagemaker.amazon.kmeans.KMeans 클래스는 모델 배포에 대해 deploy 메서드를 제공합니다. 모델 배포 프로세스의 모든 세 단계를 수행합니다.\n",
    "    \n",
    "    sagemaker.amazon.kmeans.KMeans 인스턴스는 k-means 추론 코드가 포함된 이미지의 레지스트리의 경로를 알고 있기 때문에 이를 제공할 필요가 없습니다.\n",
    "\n",
    "    이는 동기식 작업입니다. 메서드는 배포 완료까지 대기한 다음 반환합니다. 다음을 반환합니다. kmeans_predictor."
   ]
  },
  {
   "cell_type": "code",
   "execution_count": 7,
   "metadata": {},
   "outputs": [
    {
     "name": "stderr",
     "output_type": "stream",
     "text": [
      "INFO:sagemaker:Creating model with name: kmeans-2018-11-07-05-41-04-647\n",
      "INFO:sagemaker:Creating endpoint with name kmeans-2018-11-07-05-34-33-504\n"
     ]
    },
    {
     "name": "stdout",
     "output_type": "stream",
     "text": [
      "--------------------------------------------------------------!CPU times: user 263 ms, sys: 17.1 ms, total: 280 ms\n",
      "Wall time: 5min 14s\n"
     ]
    }
   ],
   "source": [
    "%%time\n",
    "\n",
    "kmeans_predictor = kmeans.deploy(initial_instance_count=1,\n",
    "                                 instance_type='ml.m4.xlarge')\n"
   ]
  },
  {
   "cell_type": "markdown",
   "metadata": {},
   "source": [
    "### 7.2. SDK for Python을 사용합니다.\n",
    "\n",
    "하위 수준 SDK for Python은 기본 Amazon SageMaker API로 매핑되는 메서드를 제공합니다. 모델을 배포하려면 세 가지를 호출합니다.\n",
    "\n",
    "1. 모델 아티팩트 및 추론 코드를 포함하는 도커 이미지의 위치를 식별함으로써 Amazon SageMaker 모델을 생성합니다."
   ]
  },
  {
   "cell_type": "code",
   "execution_count": null,
   "metadata": {},
   "outputs": [],
   "source": [
    "%%time\n",
    "import boto3\n",
    "from time import gmtime, strftime\n",
    "\n",
    "\n",
    "model_name=job_name\n",
    "print(model_name)\n",
    "\n",
    "info = sagemaker.describe_training_job(TrainingJobName=job_name)\n",
    "model_data = info['ModelArtifacts']['S3ModelArtifacts']\n",
    "\n",
    "primary_container = {\n",
    "    'Image': image,\n",
    "    'ModelDataUrl': model_data\n",
    "}\n",
    "\n",
    "create_model_response = sagemaker.create_model(\n",
    "    ModelName = model_name,\n",
    "    ExecutionRoleArn = role,\n",
    "    PrimaryContainer = primary_container)\n",
    "\n",
    "print(create_model_response['ModelArn'])"
   ]
  },
  {
   "cell_type": "markdown",
   "metadata": {},
   "source": [
    "2. 모델을 배포하고자 하는 ML 컴퓨팅 인스턴스를 지정함으로써 Amazon SageMaker 엔드포인트 구성을 생성합니다."
   ]
  },
  {
   "cell_type": "code",
   "execution_count": null,
   "metadata": {},
   "outputs": [],
   "source": [
    "from time import gmtime, strftime\n",
    "\n",
    "endpoint_config_name = 'KMeansEndpointConfig-' + strftime(\"%Y-%m-%d-%H-%M-%S\", gmtime())\n",
    "print(endpoint_config_name)\n",
    "create_endpoint_config_response = sagemaker.create_endpoint_config(\n",
    "    EndpointConfigName = endpoint_config_name,\n",
    "    ProductionVariants=[{\n",
    "        'InstanceType':'ml.m4.xlarge',\n",
    "        'InitialInstanceCount':1,\n",
    "        'ModelName':model_name,\n",
    "        'VariantName':'AllTraffic'}])\n",
    "\n",
    "print(\"Endpoint Config Arn: \" + create_endpoint_config_response['EndpointConfigArn'])"
   ]
  },
  {
   "cell_type": "markdown",
   "metadata": {},
   "source": [
    "3. Amazon SageMaker 엔드포인트를 생성합니다. 이 코드는 Waiter를 사용하여 배포가 완료될 때까지 대기한 다음 반환합니다."
   ]
  },
  {
   "cell_type": "code",
   "execution_count": null,
   "metadata": {},
   "outputs": [],
   "source": [
    "%%time\n",
    "import time\n",
    "\n",
    "endpoint_name = 'KMeansEndpoint-' + strftime(\"%Y-%m-%d-%H-%M-%S\", gmtime())\n",
    "print(endpoint_name)\n",
    "create_endpoint_response = sagemaker.create_endpoint(\n",
    "    EndpointName=endpoint_name,\n",
    "    EndpointConfigName=endpoint_config_name)\n",
    "print(create_endpoint_response['EndpointArn'])\n",
    "\n",
    "resp = sagemaker.describe_endpoint(EndpointName=endpoint_name)\n",
    "status = resp['EndpointStatus']\n",
    "print(\"Status: \" + status)\n",
    "\n",
    "try:\n",
    "    sagemaker.get_waiter('endpoint_in_service').wait(EndpointName=endpoint_name)\n",
    "finally:\n",
    "    resp = sagemaker.describe_endpoint(EndpointName=endpoint_name)\n",
    "    status = resp['EndpointStatus']\n",
    "    print(\"Arn: \" + resp['EndpointArn'])\n",
    "    print(\"Create endpoint ended with status: \" + status)\n",
    "\n",
    "    if status != 'InService':\n",
    "        message = sagemaker.describe_endpoint(EndpointName=endpoint_name)['FailureReason']\n",
    "        print('Training failed with the following error: {}'.format(message))\n",
    "        raise Exception('Endpoint creation did not succeed')"
   ]
  },
  {
   "cell_type": "markdown",
   "metadata": {},
   "source": [
    "## 8. 모델 검증\n",
    "\n",
    "이제 모델이 Amazon SageMaker에 배포되었습니다. 모델을 검증하려면 샘플 요청을 전송하고 추론을 가져옵니다. Amazon SageMaker 엔드포인트로 요청을 전송하려면 InvokeEndpoint API를 사용합니다.\n",
    "\n",
    "모델을 검증하려면 다음 옵션 중 하나를 선택합니다.\n",
    "\n",
    "### 8.1 Amazon SageMaker에서 제공하는 상위 수준 Python 라이브러리 사용.\n",
    "\n",
    "이전 단계에서 deploy 호출로 인해 반환된 kmeans_predictor는 predict 메서드를 제공합니다. 모델로부터 추론을 얻으려면 이 메서드를 호출합니다.\n",
    "\n",
    "1. valid_set 데이터 세트의 30번째 수기 숫자 이미지에 대한 추론을 얻습니다.\n",
    "\n",
    "응답은 입력 이미지가 클러스터 3에 속한다고 표시합니다. 또한 해당 클러스터에 대한 평균 제곱 거리를 표시합니다.\n",
    "\n",
    "    <참고>k-means 구현에서 클러스터 번호와 클러스터가 표시하는 숫자는 연결되지 않습니다. 예를 들어 알고리즘은 숫자 3의 수기 이미지를 클러스터 0에 그룹화하고, 숫자 4의 이미지를 클러스터 9에 그룹화할 수 있습니다."
   ]
  },
  {
   "cell_type": "code",
   "execution_count": 8,
   "metadata": {},
   "outputs": [
    {
     "name": "stdout",
     "output_type": "stream",
     "text": [
      "[label {\n",
      "  key: \"closest_cluster\"\n",
      "  value {\n",
      "    float32_tensor {\n",
      "      values: 8.0\n",
      "    }\n",
      "  }\n",
      "}\n",
      "label {\n",
      "  key: \"distance_to_cluster\"\n",
      "  value {\n",
      "    float32_tensor {\n",
      "      values: 5.61564302444458\n",
      "    }\n",
      "  }\n",
      "}\n",
      "]\n"
     ]
    }
   ],
   "source": [
    "result = kmeans_predictor.predict(valid_set[0][30:31])\n",
    "print(result)"
   ]
  },
  {
   "cell_type": "markdown",
   "metadata": {},
   "source": [
    "2. 첫 100개의 이미지에 대한 추론을 얻습니다."
   ]
  },
  {
   "cell_type": "code",
   "execution_count": 9,
   "metadata": {},
   "outputs": [
    {
     "name": "stdout",
     "output_type": "stream",
     "text": [
      "CPU times: user 26.8 ms, sys: 4.04 ms, total: 30.8 ms\n",
      "Wall time: 276 ms\n"
     ]
    }
   ],
   "source": [
    "%%time \n",
    "\n",
    "result = kmeans_predictor.predict(valid_set[0][0:100])\n",
    "clusters = [r.label['closest_cluster'].float32_tensor.values[0] for r in result]"
   ]
  },
  {
   "cell_type": "markdown",
   "metadata": {},
   "source": [
    "결과를 시각화합니다.\n",
    "\n",
    "이 코드는 valid_set 데이터 세트에서 처음 100개의 수기 숫자의 이미지를 가져오고 그에 대한 추론을 생성합니다. 결과는 유사한 이미지를 그룹화한 클러스터 세트입니다. 다음 시각화는 모델이 반환한 클러스터 중 4개를 보여줍니다."
   ]
  },
  {
   "cell_type": "code",
   "execution_count": 11,
   "metadata": {},
   "outputs": [
    {
     "name": "stdout",
     "output_type": "stream",
     "text": [
      "\n",
      "\n",
      "\n",
      "Cluster 0:\n"
     ]
    },
    {
     "data": {
      "image/png": "[encoded data removed]",
      "text/plain": [
       "<Figure size 360x144 with 10 Axes>"
      ]
     },
     "metadata": {},
     "output_type": "display_data"
    },
    {
     "name": "stdout",
     "output_type": "stream",
     "text": [
      "\n",
      "\n",
      "\n",
      "Cluster 1:\n"
     ]
    },
    {
     "data": {
      "image/png": "[encoded data removed]",
      "text/plain": [
       "<Figure size 360x216 with 15 Axes>"
      ]
     },
     "metadata": {},
     "output_type": "display_data"
    },
    {
     "name": "stdout",
     "output_type": "stream",
     "text": [
      "\n",
      "\n",
      "\n",
      "Cluster 2:\n"
     ]
    },
    {
     "data": {
      "image/png": "[encoded data removed]",
      "text/plain": [
       "<Figure size 360x72 with 5 Axes>"
      ]
     },
     "metadata": {},
     "output_type": "display_data"
    },
    {
     "name": "stdout",
     "output_type": "stream",
     "text": [
      "\n",
      "\n",
      "\n",
      "Cluster 3:\n"
     ]
    },
    {
     "data": {
      "image/png": "[encoded data removed]",
      "text/plain": [
       "<Figure size 360x216 with 15 Axes>"
      ]
     },
     "metadata": {},
     "output_type": "display_data"
    },
    {
     "name": "stdout",
     "output_type": "stream",
     "text": [
      "\n",
      "\n",
      "\n",
      "Cluster 4:\n"
     ]
    },
    {
     "data": {
      "image/png": "[encoded data removed]",
      "text/plain": [
       "<Figure size 360x144 with 10 Axes>"
      ]
     },
     "metadata": {},
     "output_type": "display_data"
    },
    {
     "name": "stdout",
     "output_type": "stream",
     "text": [
      "\n",
      "\n",
      "\n",
      "Cluster 5:\n"
     ]
    },
    {
     "data": {
      "image/png": "[encoded data removed]",
      "text/plain": [
       "<Figure size 360x144 with 10 Axes>"
      ]
     },
     "metadata": {},
     "output_type": "display_data"
    },
    {
     "name": "stdout",
     "output_type": "stream",
     "text": [
      "\n",
      "\n",
      "\n",
      "Cluster 6:\n"
     ]
    },
    {
     "data": {
      "image/png": "[encoded data removed]",
      "text/plain": [
       "<Figure size 360x216 with 15 Axes>"
      ]
     },
     "metadata": {},
     "output_type": "display_data"
    },
    {
     "name": "stdout",
     "output_type": "stream",
     "text": [
      "\n",
      "\n",
      "\n",
      "Cluster 7:\n"
     ]
    },
    {
     "data": {
      "image/png": "[encoded data removed]",
      "text/plain": [
       "<Figure size 360x144 with 10 Axes>"
      ]
     },
     "metadata": {},
     "output_type": "display_data"
    },
    {
     "name": "stdout",
     "output_type": "stream",
     "text": [
      "\n",
      "\n",
      "\n",
      "Cluster 8:\n"
     ]
    },
    {
     "data": {
      "image/png": "[encoded data removed]",
      "text/plain": [
       "<Figure size 360x360 with 25 Axes>"
      ]
     },
     "metadata": {},
     "output_type": "display_data"
    },
    {
     "name": "stdout",
     "output_type": "stream",
     "text": [
      "\n",
      "\n",
      "\n",
      "Cluster 9:\n"
     ]
    },
    {
     "data": {
      "image/png": "[encoded data removed]",
      "text/plain": [
       "<Figure size 360x216 with 15 Axes>"
      ]
     },
     "metadata": {},
     "output_type": "display_data"
    }
   ],
   "source": [
    "for cluster in range(10):\n",
    "    print('\\n\\n\\nCluster {}:'.format(int(cluster)))\n",
    "    digits = [ img for l, img in zip(clusters, valid_set[0]) if int(l) == cluster ]\n",
    "    height=((len(digits)-1)//5)+1\n",
    "    width=5\n",
    "    plt.rcParams[\"figure.figsize\"] = (width,height)\n",
    "    _, subplots = plt.subplots(height, width)\n",
    "    subplots=numpy.ndarray.flatten(subplots)\n",
    "    for subplot, image in zip(subplots, digits):\n",
    "        show_digit(image, subplot=subplot)\n",
    "    for subplot in subplots[len(digits):]:\n",
    "        subplot.axis('off')\n",
    "\n",
    "    plt.show()"
   ]
  },
  {
   "cell_type": "markdown",
   "metadata": {},
   "source": [
    "### 8.2. SDK for Python을 사용합니다.\n",
    "\n",
    "1. 엔드포인트로 요청을 전송하려면 invoke_endpoint 메서드를 사용합니다.\n",
    "\n",
    "train_set의 30번째 이미지를 입력으로 전송하는 요청을 전송합니다. 각 이미지는 28x28(총 784) 픽셀 이미지입니다. 요청은 이미지의 모든 784개 픽셀을 쉼표로 구분되는 값으로 전송합니다.\n",
    "\n",
    "다음 예제 응답에서 추론은 클러스터 7(labels가 클러스터를 식별)에 속하는 이미지를 분류합니다. 추론은 또한 해당 클러스터에 대한 평균 제곱 거리를 표시합니다."
   ]
  },
  {
   "cell_type": "code",
   "execution_count": 12,
   "metadata": {},
   "outputs": [
    {
     "ename": "NameError",
     "evalue": "name 'endpoint_name' is not defined",
     "output_type": "error",
     "traceback": [
      "\u001b[0;31m---------------------------------------------------------------------------\u001b[0m",
      "\u001b[0;31mNameError\u001b[0m                                 Traceback (most recent call last)",
      "\u001b[0;32m<ipython-input-12-21d6fa263874>\u001b[0m in \u001b[0;36m<module>\u001b[0;34m()\u001b[0m\n\u001b[1;32m     11\u001b[0m \u001b[0mpayload\u001b[0m \u001b[0;34m=\u001b[0m \u001b[0mnp2csv\u001b[0m\u001b[0;34m(\u001b[0m\u001b[0mtrain_set\u001b[0m\u001b[0;34m[\u001b[0m\u001b[0;36m0\u001b[0m\u001b[0;34m]\u001b[0m\u001b[0;34m[\u001b[0m\u001b[0;36m30\u001b[0m\u001b[0;34m:\u001b[0m\u001b[0;36m31\u001b[0m\u001b[0;34m]\u001b[0m\u001b[0;34m)\u001b[0m\u001b[0;34m\u001b[0m\u001b[0m\n\u001b[1;32m     12\u001b[0m \u001b[0;34m\u001b[0m\u001b[0m\n\u001b[0;32m---> 13\u001b[0;31m response = runtime.invoke_endpoint(EndpointName=endpoint_name, \n\u001b[0m\u001b[1;32m     14\u001b[0m                                    \u001b[0mContentType\u001b[0m\u001b[0;34m=\u001b[0m\u001b[0;34m'text/csv'\u001b[0m\u001b[0;34m,\u001b[0m\u001b[0;34m\u001b[0m\u001b[0m\n\u001b[1;32m     15\u001b[0m                                    Body=payload)\n",
      "\u001b[0;31mNameError\u001b[0m: name 'endpoint_name' is not defined"
     ]
    }
   ],
   "source": [
    "import json\n",
    "\n",
    "# Simple function to create a csv from our numpy array\n",
    "def np2csv(arr):\n",
    "    csv = io.BytesIO()\n",
    "    numpy.savetxt(csv, arr, delimiter=',', fmt='%g')\n",
    "    return csv.getvalue().decode().rstrip()\n",
    "\n",
    "runtime = boto3.Session().client('sagemaker-runtime')\n",
    "\n",
    "payload = np2csv(train_set[0][30:31])\n",
    "\n",
    "response = runtime.invoke_endpoint(EndpointName=endpoint_name, \n",
    "                                   ContentType='text/csv', \n",
    "                                   Body=payload)\n",
    "result = json.loads(response['Body'].read().decode())\n",
    "print(result)"
   ]
  },
  {
   "cell_type": "markdown",
   "metadata": {},
   "source": [
    "2. 또 다른 테스트를 실행합니다. 다음 코드는 valid_set 검증 세트에서 처음 100개의 이미지를 가져오고 그에 대한 추론을 생성합니다. 이 테스트는 입력 이미지가 속하는 클러스터를 식별합니다. 그리고 결과를 시각적으로 제공합니다.\n",
    "\n",
    "결과는 유사한 이미지를 그룹화한 클러스터 세트입니다. 다음 시각화는 모델이 반환한 클러스터 중 4개를 보여줍니다."
   ]
  },
  {
   "cell_type": "code",
   "execution_count": null,
   "metadata": {},
   "outputs": [],
   "source": [
    "%%time \n",
    "\n",
    "payload = np2csv(valid_set[0][0:100])\n",
    "response = runtime.invoke_endpoint(EndpointName=endpoint_name, \n",
    "                                   ContentType='text/csv', \n",
    "                                   Body=payload)\n",
    "result = json.loads(response['Body'].read().decode())\n",
    "clusters = [p['closest_cluster'] for p in result['predictions']]\n",
    "\n",
    "for cluster in range(10):\n",
    "    print('\\n\\n\\nCluster {}:'.format(int(cluster)))\n",
    "    digits = [ img for l, img in zip(clusters, valid_set[0]) if int(l) == cluster ]\n",
    "    height=((len(digits)-1)//5)+1\n",
    "    width=5\n",
    "    plt.rcParams[\"figure.figsize\"] = (width,height)\n",
    "    _, subplots = plt.subplots(height, width)\n",
    "    subplots=numpy.ndarray.flatten(subplots)\n",
    "    for subplot, image in zip(subplots, digits):\n",
    "        show_digit(image, subplot=subplot)\n",
    "    for subplot in subplots[len(digits):]:\n",
    "        subplot.axis('off')\n",
    "\n",
    "    plt.show()"
   ]
  },
  {
   "cell_type": "markdown",
   "metadata": {},
   "source": [
    "3. 모델이 얼마나 정확한지 이해하려면 클러스터와 그 안에 있는 숫자를 검토하여 클러스터링된 모델이 숫자와 얼마나 유사한 모습인지 확인합니다. 모델을 개선하기 위해 교육 작업에 다음 변경 사항을 적용할 수 있습니다.\n",
    "\n",
    "    * 모델 교육 파라미터 변경 – 예를 들어 epoch의 수를 늘리거나 extra_center_factor와 같은 하이퍼파라미터를 수정합니다. 자세한 정보는 k-means 하이퍼파라미터 단원을 참조하십시오.\n",
    "\n",
    "    * 알고리즘 전환 고려 – MNIST 데이터 세트의 이미지에는 숫자를 식별하는 정보가 있으며, 이를 레이블이라고 합니다. 이와 유사하게 다른 문제에 대한 교육 데이터에 레이블을 지정할 수 있습니다. 그리고 레이블 정보와 지도 알고리즘(예: Amazon SageMaker가 제공하는 Linear Learner 알고리즘)을 사용할 수 있습니다. 자세한 정보는 Linear Learner 단원을 참조하십시오.\n",
    "\n",
    "    * 전문 알고리즘 사용 – Linear Learner 알고리즘 대신 Amazon SageMaker에서 제공하는 이미지 분류 알고리즘과 같은 전문 알고리즘을 사용합니다. 자세한 정보는 Image Classification 알고리즘 단원을 참조하십시오.\n",
    "\n",
    "    * 사용자 지정 알고리즘 사용 – Apache MXNet 또는 TensorFlow에 빌드된 사용자 지정 신경망 알고리즘 사용을 고려하십시오. 자세한 정보는 Amazon SageMaker를 통한 Apache MXNet 사용 및 Amazon SageMaker를 통한 TensorFlow 사용 단원을 참조하십시오."
   ]
  },
  {
   "cell_type": "markdown",
   "metadata": {},
   "source": [
    "## 9. 불필요한 비용이 발생하지 않도록 AWS Management 콘솔을 사용하여 이 연습에서 생성한 리소스를 삭제합니다.\n",
    "\n",
    "<참고>이 설명서의 다른 연습을 시험할 계획인 경우 노트북 인스턴스, S3 버킷 및 IAM 역할과 같은 일부 리소스를 유지하고자 할 것입니다.\n",
    "\n",
    "     * https://console.aws.amazon.com/sagemaker/에서 Amazon SageMaker 콘솔을 열고 다음 리소스를 삭제합니다.\n",
    "\n",
    "        * 엔드포인트입니다. 이 또한 ML 컴퓨팅 리소스 또는 인스턴스를 삭제합니다.\n",
    "\n",
    "        * 엔드포인트 구성.\n",
    "\n",
    "        * 모델.\n",
    "\n",
    "        * 노트북 인스턴스. 삭제하기 전에 인스턴스를 중지해야 합니다.\n",
    "\n",
    "     * https://console.aws.amazon.com/s3/에서 Amazon S3 콘솔을 열고 모델 아티팩트 및 교육 데이터 세트 저장용으로 생성한 버킷을 삭제합니다.\n",
    "\n",
    "     * https://console.aws.amazon.com/iam/에서 IAM 콘솔을 열고 IAM 역할을 삭제합니다. 권한 정책을 생성한 경우 역시 삭제할 수 있습니다.\n",
    "\n",
    "     * https://console.aws.amazon.com/cloudwatch/에서 Amazon CloudWatch 콘솔을 열고 이름이 /aws/sagemaker/로 시작하는 모든 로그 그룹을 삭제합니다."
   ]
  },
  {
   "cell_type": "markdown",
   "metadata": {},
   "source": [
    "## 10. Amazon SageMaker 엔드포인트와 인터넷 경계 애플리케이션 통합 시 추가 고려 사항\n",
    "\n",
    "프로덕션 환경에서 인터넷 경계 애플리케이션으로 엔드포인트에 추론 요청을 전송할 수 있습니다. 다음 상위 수준 예제는 모델 엔드포인트를 애플리케이션과 통합하는 방법을 보여줍니다.\n",
    "\n",
    "    * AWS Lambda 서비스 주체가 맡을 수 있는 IAM 역할을 생성합니다. 해당 역할에 Amazon SageMaker InvokeEndpoint API를 호출할 권한을 부여합니다.\n",
    "\n",
    "    * Amazon SageMaker InvokeEndpoint API를 호출하는 Lambda 함수를 생성합니다.\n",
    "\n",
    "    * 모바일 애플리케이션에서 Lambda 함수를 호출합니다. Amazon Cognito를 자격 증명으로 사용하여 모바일 애플리케이션에서 Lambda 함수를 호출하는 방법에 대한 예제는 자습서: 모바일 애플리케이션 백엔드로 AWS Lambda 사용을 참조하십시오."
   ]
  },
  {
   "cell_type": "code",
   "execution_count": null,
   "metadata": {},
   "outputs": [],
   "source": []
  }
 ],
 "metadata": {
  "kernelspec": {
   "display_name": "conda_tensorflow_p36",
   "language": "python",
   "name": "conda_tensorflow_p36"
  },
  "language_info": {
   "codemirror_mode": {
    "name": "ipython",
    "version": 3
   },
   "file_extension": ".py",
   "mimetype": "text/x-python",
   "name": "python",
   "nbconvert_exporter": "python",
   "pygments_lexer": "ipython3",
   "version": "3.6.5"
  }
 },
 "nbformat": 4,
 "nbformat_minor": 2
}
